{
 "cells": [
  {
   "cell_type": "markdown",
   "metadata": {
    "id": "I7OZVhUJN9Lg"
   },
   "source": [
    "# Import Library"
   ]
  },
  {
   "cell_type": "code",
   "execution_count": 1,
   "metadata": {
    "id": "oqGNipieXPw6"
   },
   "outputs": [],
   "source": [
    "import pandas as pd\n",
    "import numpy as np\n",
    "import os\n",
    "import joblib\n",
    "import tensorflow as tf\n",
    "from tensorflow.keras.models import Sequential\n",
    "from tensorflow.keras.layers import Dense, Dropout\n",
    "from sklearn.preprocessing import StandardScaler, OneHotEncoder\n",
    "from sklearn.compose import ColumnTransformer\n",
    "from sklearn.metrics import classification_report, confusion_matrix, roc_auc_score\n",
    "from sklearn.utils.class_weight import compute_class_weight\n",
    "import matplotlib.pyplot as plt\n",
    "import seaborn as sns"
   ]
  },
  {
   "cell_type": "markdown",
   "metadata": {
    "id": "uGnSTR3wOBKT"
   },
   "source": [
    "# Data Preparation"
   ]
  },
  {
   "cell_type": "code",
   "execution_count": 2,
   "metadata": {
    "colab": {
     "base_uri": "https://localhost:8080/"
    },
    "id": "L3QaF5F9XQy8",
    "outputId": "c98cd8ac-a3bb-4289-f02c-6e25dc629b1c"
   },
   "outputs": [
    {
     "name": "stdout",
     "output_type": "stream",
     "text": [
      "Dataset Latihan dan Tes Holdout berhasil dimuat.\n"
     ]
    }
   ],
   "source": [
    "# Data load\n",
    "try:\n",
    "    df_train = pd.read_csv('dataset_latihan.csv')\n",
    "    df_test = pd.read_csv('dataset_tes_holdout.csv')\n",
    "    print(\"Dataset Latihan dan Tes Holdout berhasil dimuat.\")\n",
    "except FileNotFoundError:\n",
    "    print(\"ERROR: Pastikan file 'dataset_latihan.csv' dan 'dataset_tes_holdout.csv' ada.\")\n",
    "    exit()"
   ]
  },
  {
   "cell_type": "code",
   "execution_count": 3,
   "metadata": {
    "colab": {
     "base_uri": "https://localhost:8080/"
    },
    "id": "EYEocIoCyIRF",
    "outputId": "237d0bd4-23b0-4ac6-abf1-1b0fb773b8a4"
   },
   "outputs": [
    {
     "name": "stdout",
     "output_type": "stream",
     "text": [
      "\n",
      "--- Memproses Dataset Latihan ---\n",
      "Tidak ada missing value.\n",
      "Jumlah baris duplikat: 0\n",
      "\n",
      "--- Memproses Dataset Tes Holdout ---\n",
      "Tidak ada missing value.\n",
      "Jumlah baris duplikat: 0\n",
      "\n",
      "Feature engineering selesai untuk kedua dataset.\n"
     ]
    }
   ],
   "source": [
    "# Lakukan pengecekan dan feature engineering pada kedua dataframe\n",
    "for name, df in [('Latihan', df_train), ('Tes Holdout', df_test)]:\n",
    "    print(f\"\\n--- Memproses Dataset {name} ---\")\n",
    "\n",
    "    # Cek Missing Value\n",
    "    if df.isnull().sum().sum() == 0:\n",
    "        print(\"Tidak ada missing value.\")\n",
    "    else:\n",
    "        print(f\"Ditemukan missing value, harap ditangani.\")\n",
    "        print(df.isnull().sum()[df.isnull().sum() > 0])\n",
    "\n",
    "    # Cek Duplikat\n",
    "    duplicate_count = df.duplicated().sum()\n",
    "    print(f\"Jumlah baris duplikat: {duplicate_count}\")\n",
    "    if duplicate_count > 0:\n",
    "        df.drop_duplicates(inplace=True)\n",
    "        print(\"Baris duplikat telah dihapus.\")\n",
    "\n",
    "    # Feature Engineering\n",
    "    df['timestamp'] = pd.to_datetime(df['timestamp'])\n",
    "    df['hour_of_day'] = df['timestamp'].dt.hour\n",
    "    df['day_of_week'] = df['timestamp'].dt.dayofweek\n",
    "\n",
    "print(\"\\nFeature engineering selesai untuk kedua dataset.\")"
   ]
  },
  {
   "cell_type": "markdown",
   "metadata": {
    "id": "tBhav-JMOHzy"
   },
   "source": [
    "# Pemrosesan Data"
   ]
  },
  {
   "cell_type": "code",
   "execution_count": 4,
   "metadata": {
    "id": "AzlecotvXd_u"
   },
   "outputs": [],
   "source": [
    "# Definisikan fitur (X) dan target (y)\n",
    "features_to_drop = ['transaction_id', 'sender_account', 'receiver_account', 'timestamp', 'is_synthetic', 'anomaly_type']\n",
    "\n",
    "X_train = df_train.drop(columns=['is_fraud'] + features_to_drop)\n",
    "y_train = df_train['is_fraud']\n",
    "\n",
    "X_test = df_test.drop(columns=['is_fraud'] + features_to_drop)\n",
    "y_test = df_test['is_fraud']\n",
    "\n",
    "# Identifikasi kolom numerik dan kategorikal\n",
    "numerical_features = X_train.select_dtypes(include=np.number).columns.tolist()\n",
    "categorical_features = X_train.select_dtypes(exclude=np.number).columns.tolist()"
   ]
  },
  {
   "cell_type": "code",
   "execution_count": 5,
   "metadata": {
    "id": "MXn-IQ2GXkGM"
   },
   "outputs": [],
   "source": [
    "#  PRAPEMROSESAN DATA\n",
    "preprocessor = ColumnTransformer(\n",
    "    transformers=[\n",
    "        ('num', StandardScaler(), numerical_features),\n",
    "        ('cat', OneHotEncoder(handle_unknown='ignore'), categorical_features)\n",
    "    ],\n",
    "    remainder='passthrough'\n",
    ")"
   ]
  },
  {
   "cell_type": "code",
   "execution_count": 6,
   "metadata": {
    "colab": {
     "base_uri": "https://localhost:8080/"
    },
    "id": "x_43cDGlX-Eo",
    "outputId": "c91136c0-c639-4d8b-f0e5-6bd2ef4c0a54"
   },
   "outputs": [
    {
     "name": "stdout",
     "output_type": "stream",
     "text": [
      "\n",
      "Melatih preprocessor HANYA pada data latihan...\n",
      "Bentuk data training setelah diproses: (2610, 19)\n",
      "Bentuk data testing setelah diproses: (755, 19)\n"
     ]
    }
   ],
   "source": [
    "# fit HANYA pada data LATIHAN\n",
    "print(\"\\nMelatih preprocessor HANYA pada data latihan...\")\n",
    "preprocessor.fit(X_train)\n",
    "\n",
    "# Terapkan preprocessor ke kedua set\n",
    "X_train_processed = preprocessor.transform(X_train)\n",
    "X_test_processed = preprocessor.transform(X_test)\n",
    "\n",
    "print(f\"Bentuk data training setelah diproses: {X_train_processed.shape}\")\n",
    "print(f\"Bentuk data testing setelah diproses: {X_test_processed.shape}\")\n"
   ]
  },
  {
   "cell_type": "markdown",
   "metadata": {
    "id": "MVFnhfV7ORPD"
   },
   "source": [
    "# Modelling"
   ]
  },
  {
   "cell_type": "code",
   "execution_count": 7,
   "metadata": {
    "colab": {
     "base_uri": "https://localhost:8080/",
     "height": 376
    },
    "id": "wGnNZfPbYHwM",
    "outputId": "9fb09822-d4da-4d63-b947-54a91e284779"
   },
   "outputs": [
    {
     "name": "stderr",
     "output_type": "stream",
     "text": [
      "D:\\Perkuliahan\\Semester 6\\MSIB\\Capstone\\DeteksiAnomali\\venv\\Lib\\site-packages\\keras\\src\\layers\\core\\dense.py:93: UserWarning: Do not pass an `input_shape`/`input_dim` argument to a layer. When using Sequential models, prefer using an `Input(shape)` object as the first layer in the model instead.\n",
      "  super().__init__(activity_regularizer=activity_regularizer, **kwargs)\n"
     ]
    },
    {
     "data": {
      "text/html": [
       "<pre style=\"white-space:pre;overflow-x:auto;line-height:normal;font-family:Menlo,'DejaVu Sans Mono',consolas,'Courier New',monospace\"><span style=\"font-weight: bold\">Model: \"sequential\"</span>\n",
       "</pre>\n"
      ],
      "text/plain": [
       "\u001b[1mModel: \"sequential\"\u001b[0m\n"
      ]
     },
     "metadata": {},
     "output_type": "display_data"
    },
    {
     "data": {
      "text/html": [
       "<pre style=\"white-space:pre;overflow-x:auto;line-height:normal;font-family:Menlo,'DejaVu Sans Mono',consolas,'Courier New',monospace\">┏━━━━━━━━━━━━━━━━━━━━━━━━━━━━━━━━━━━━━━┳━━━━━━━━━━━━━━━━━━━━━━━━━━━━━┳━━━━━━━━━━━━━━━━━┓\n",
       "┃<span style=\"font-weight: bold\"> Layer (type)                         </span>┃<span style=\"font-weight: bold\"> Output Shape                </span>┃<span style=\"font-weight: bold\">         Param # </span>┃\n",
       "┡━━━━━━━━━━━━━━━━━━━━━━━━━━━━━━━━━━━━━━╇━━━━━━━━━━━━━━━━━━━━━━━━━━━━━╇━━━━━━━━━━━━━━━━━┩\n",
       "│ dense (<span style=\"color: #0087ff; text-decoration-color: #0087ff\">Dense</span>)                        │ (<span style=\"color: #00d7ff; text-decoration-color: #00d7ff\">None</span>, <span style=\"color: #00af00; text-decoration-color: #00af00\">128</span>)                 │           <span style=\"color: #00af00; text-decoration-color: #00af00\">2,560</span> │\n",
       "├──────────────────────────────────────┼─────────────────────────────┼─────────────────┤\n",
       "│ dropout (<span style=\"color: #0087ff; text-decoration-color: #0087ff\">Dropout</span>)                    │ (<span style=\"color: #00d7ff; text-decoration-color: #00d7ff\">None</span>, <span style=\"color: #00af00; text-decoration-color: #00af00\">128</span>)                 │               <span style=\"color: #00af00; text-decoration-color: #00af00\">0</span> │\n",
       "├──────────────────────────────────────┼─────────────────────────────┼─────────────────┤\n",
       "│ dense_1 (<span style=\"color: #0087ff; text-decoration-color: #0087ff\">Dense</span>)                      │ (<span style=\"color: #00d7ff; text-decoration-color: #00d7ff\">None</span>, <span style=\"color: #00af00; text-decoration-color: #00af00\">64</span>)                  │           <span style=\"color: #00af00; text-decoration-color: #00af00\">8,256</span> │\n",
       "├──────────────────────────────────────┼─────────────────────────────┼─────────────────┤\n",
       "│ dropout_1 (<span style=\"color: #0087ff; text-decoration-color: #0087ff\">Dropout</span>)                  │ (<span style=\"color: #00d7ff; text-decoration-color: #00d7ff\">None</span>, <span style=\"color: #00af00; text-decoration-color: #00af00\">64</span>)                  │               <span style=\"color: #00af00; text-decoration-color: #00af00\">0</span> │\n",
       "├──────────────────────────────────────┼─────────────────────────────┼─────────────────┤\n",
       "│ dense_2 (<span style=\"color: #0087ff; text-decoration-color: #0087ff\">Dense</span>)                      │ (<span style=\"color: #00d7ff; text-decoration-color: #00d7ff\">None</span>, <span style=\"color: #00af00; text-decoration-color: #00af00\">32</span>)                  │           <span style=\"color: #00af00; text-decoration-color: #00af00\">2,080</span> │\n",
       "├──────────────────────────────────────┼─────────────────────────────┼─────────────────┤\n",
       "│ dense_3 (<span style=\"color: #0087ff; text-decoration-color: #0087ff\">Dense</span>)                      │ (<span style=\"color: #00d7ff; text-decoration-color: #00d7ff\">None</span>, <span style=\"color: #00af00; text-decoration-color: #00af00\">1</span>)                   │              <span style=\"color: #00af00; text-decoration-color: #00af00\">33</span> │\n",
       "└──────────────────────────────────────┴─────────────────────────────┴─────────────────┘\n",
       "</pre>\n"
      ],
      "text/plain": [
       "┏━━━━━━━━━━━━━━━━━━━━━━━━━━━━━━━━━━━━━━┳━━━━━━━━━━━━━━━━━━━━━━━━━━━━━┳━━━━━━━━━━━━━━━━━┓\n",
       "┃\u001b[1m \u001b[0m\u001b[1mLayer (type)                        \u001b[0m\u001b[1m \u001b[0m┃\u001b[1m \u001b[0m\u001b[1mOutput Shape               \u001b[0m\u001b[1m \u001b[0m┃\u001b[1m \u001b[0m\u001b[1m        Param #\u001b[0m\u001b[1m \u001b[0m┃\n",
       "┡━━━━━━━━━━━━━━━━━━━━━━━━━━━━━━━━━━━━━━╇━━━━━━━━━━━━━━━━━━━━━━━━━━━━━╇━━━━━━━━━━━━━━━━━┩\n",
       "│ dense (\u001b[38;5;33mDense\u001b[0m)                        │ (\u001b[38;5;45mNone\u001b[0m, \u001b[38;5;34m128\u001b[0m)                 │           \u001b[38;5;34m2,560\u001b[0m │\n",
       "├──────────────────────────────────────┼─────────────────────────────┼─────────────────┤\n",
       "│ dropout (\u001b[38;5;33mDropout\u001b[0m)                    │ (\u001b[38;5;45mNone\u001b[0m, \u001b[38;5;34m128\u001b[0m)                 │               \u001b[38;5;34m0\u001b[0m │\n",
       "├──────────────────────────────────────┼─────────────────────────────┼─────────────────┤\n",
       "│ dense_1 (\u001b[38;5;33mDense\u001b[0m)                      │ (\u001b[38;5;45mNone\u001b[0m, \u001b[38;5;34m64\u001b[0m)                  │           \u001b[38;5;34m8,256\u001b[0m │\n",
       "├──────────────────────────────────────┼─────────────────────────────┼─────────────────┤\n",
       "│ dropout_1 (\u001b[38;5;33mDropout\u001b[0m)                  │ (\u001b[38;5;45mNone\u001b[0m, \u001b[38;5;34m64\u001b[0m)                  │               \u001b[38;5;34m0\u001b[0m │\n",
       "├──────────────────────────────────────┼─────────────────────────────┼─────────────────┤\n",
       "│ dense_2 (\u001b[38;5;33mDense\u001b[0m)                      │ (\u001b[38;5;45mNone\u001b[0m, \u001b[38;5;34m32\u001b[0m)                  │           \u001b[38;5;34m2,080\u001b[0m │\n",
       "├──────────────────────────────────────┼─────────────────────────────┼─────────────────┤\n",
       "│ dense_3 (\u001b[38;5;33mDense\u001b[0m)                      │ (\u001b[38;5;45mNone\u001b[0m, \u001b[38;5;34m1\u001b[0m)                   │              \u001b[38;5;34m33\u001b[0m │\n",
       "└──────────────────────────────────────┴─────────────────────────────┴─────────────────┘\n"
      ]
     },
     "metadata": {},
     "output_type": "display_data"
    },
    {
     "data": {
      "text/html": [
       "<pre style=\"white-space:pre;overflow-x:auto;line-height:normal;font-family:Menlo,'DejaVu Sans Mono',consolas,'Courier New',monospace\"><span style=\"font-weight: bold\"> Total params: </span><span style=\"color: #00af00; text-decoration-color: #00af00\">12,929</span> (50.50 KB)\n",
       "</pre>\n"
      ],
      "text/plain": [
       "\u001b[1m Total params: \u001b[0m\u001b[38;5;34m12,929\u001b[0m (50.50 KB)\n"
      ]
     },
     "metadata": {},
     "output_type": "display_data"
    },
    {
     "data": {
      "text/html": [
       "<pre style=\"white-space:pre;overflow-x:auto;line-height:normal;font-family:Menlo,'DejaVu Sans Mono',consolas,'Courier New',monospace\"><span style=\"font-weight: bold\"> Trainable params: </span><span style=\"color: #00af00; text-decoration-color: #00af00\">12,929</span> (50.50 KB)\n",
       "</pre>\n"
      ],
      "text/plain": [
       "\u001b[1m Trainable params: \u001b[0m\u001b[38;5;34m12,929\u001b[0m (50.50 KB)\n"
      ]
     },
     "metadata": {},
     "output_type": "display_data"
    },
    {
     "data": {
      "text/html": [
       "<pre style=\"white-space:pre;overflow-x:auto;line-height:normal;font-family:Menlo,'DejaVu Sans Mono',consolas,'Courier New',monospace\"><span style=\"font-weight: bold\"> Non-trainable params: </span><span style=\"color: #00af00; text-decoration-color: #00af00\">0</span> (0.00 B)\n",
       "</pre>\n"
      ],
      "text/plain": [
       "\u001b[1m Non-trainable params: \u001b[0m\u001b[38;5;34m0\u001b[0m (0.00 B)\n"
      ]
     },
     "metadata": {},
     "output_type": "display_data"
    }
   ],
   "source": [
    "model = Sequential([\n",
    "    Dense(128, activation='relu', input_shape=(X_train_processed.shape[1],)),\n",
    "    Dropout(0.3),\n",
    "    Dense(64, activation='relu'),\n",
    "    Dropout(0.3),\n",
    "    Dense(32, activation='relu'),\n",
    "    Dense(1, activation='sigmoid')\n",
    "])\n",
    "\n",
    "model.compile(optimizer='adam', loss='binary_crossentropy', metrics=['accuracy', tf.keras.metrics.AUC(name='auc')])\n",
    "model.summary()"
   ]
  },
  {
   "cell_type": "code",
   "execution_count": 8,
   "metadata": {
    "colab": {
     "base_uri": "https://localhost:8080/"
    },
    "id": "N167T6IYYLTl",
    "outputId": "edccf19e-8ca5-40fb-cd85-cadfadeaf047"
   },
   "outputs": [
    {
     "name": "stdout",
     "output_type": "stream",
     "text": [
      "\n",
      "Class Weights yang digunakan: {0: np.float64(0.815625), 1: np.float64(1.2920792079207921)}\n"
     ]
    }
   ],
   "source": [
    "# Hitung class weight dari data latihan\n",
    "class_weights = compute_class_weight('balanced', classes=np.unique(y_train), y=y_train)\n",
    "class_weight_dict = dict(enumerate(class_weights))\n",
    "print(f\"\\nClass Weights yang digunakan: {class_weight_dict}\")"
   ]
  },
  {
   "cell_type": "code",
   "execution_count": 9,
   "metadata": {
    "colab": {
     "base_uri": "https://localhost:8080/"
    },
    "id": "hnBlGdfDYNvU",
    "outputId": "ab016ff9-918b-4ab9-c10d-5aad2d8643f8"
   },
   "outputs": [
    {
     "name": "stdout",
     "output_type": "stream",
     "text": [
      "\n",
      "Memulai pelatihan model...\n",
      "Epoch 1/30\n",
      "\u001b[1m82/82\u001b[0m \u001b[32m━━━━━━━━━━━━━━━━━━━━\u001b[0m\u001b[37m\u001b[0m \u001b[1m5s\u001b[0m 11ms/step - accuracy: 0.7072 - auc: 0.8768 - loss: 0.4817 - val_accuracy: 0.9748 - val_auc: 0.9987 - val_loss: 0.0646\n",
      "Epoch 2/30\n",
      "\u001b[1m82/82\u001b[0m \u001b[32m━━━━━━━━━━━━━━━━━━━━\u001b[0m\u001b[37m\u001b[0m \u001b[1m0s\u001b[0m 5ms/step - accuracy: 1.0000 - auc: 1.0000 - loss: 0.0189 - val_accuracy: 0.9894 - val_auc: 0.9998 - val_loss: 0.0241\n",
      "Epoch 3/30\n",
      "\u001b[1m82/82\u001b[0m \u001b[32m━━━━━━━━━━━━━━━━━━━━\u001b[0m\u001b[37m\u001b[0m \u001b[1m0s\u001b[0m 5ms/step - accuracy: 1.0000 - auc: 1.0000 - loss: 0.0028 - val_accuracy: 0.9934 - val_auc: 0.9999 - val_loss: 0.0205\n",
      "Epoch 4/30\n",
      "\u001b[1m82/82\u001b[0m \u001b[32m━━━━━━━━━━━━━━━━━━━━\u001b[0m\u001b[37m\u001b[0m \u001b[1m0s\u001b[0m 5ms/step - accuracy: 1.0000 - auc: 1.0000 - loss: 0.0012 - val_accuracy: 0.9947 - val_auc: 0.9999 - val_loss: 0.0148\n",
      "Epoch 5/30\n",
      "\u001b[1m82/82\u001b[0m \u001b[32m━━━━━━━━━━━━━━━━━━━━\u001b[0m\u001b[37m\u001b[0m \u001b[1m0s\u001b[0m 5ms/step - accuracy: 1.0000 - auc: 1.0000 - loss: 4.5755e-04 - val_accuracy: 0.9947 - val_auc: 0.9999 - val_loss: 0.0142\n",
      "Epoch 6/30\n",
      "\u001b[1m82/82\u001b[0m \u001b[32m━━━━━━━━━━━━━━━━━━━━\u001b[0m\u001b[37m\u001b[0m \u001b[1m1s\u001b[0m 7ms/step - accuracy: 1.0000 - auc: 1.0000 - loss: 2.0198e-04 - val_accuracy: 0.9947 - val_auc: 0.9999 - val_loss: 0.0144\n",
      "Epoch 7/30\n",
      "\u001b[1m82/82\u001b[0m \u001b[32m━━━━━━━━━━━━━━━━━━━━\u001b[0m\u001b[37m\u001b[0m \u001b[1m1s\u001b[0m 7ms/step - accuracy: 1.0000 - auc: 1.0000 - loss: 2.0224e-04 - val_accuracy: 0.9947 - val_auc: 1.0000 - val_loss: 0.0149\n",
      "Epoch 8/30\n",
      "\u001b[1m82/82\u001b[0m \u001b[32m━━━━━━━━━━━━━━━━━━━━\u001b[0m\u001b[37m\u001b[0m \u001b[1m0s\u001b[0m 5ms/step - accuracy: 1.0000 - auc: 1.0000 - loss: 1.4283e-04 - val_accuracy: 0.9960 - val_auc: 1.0000 - val_loss: 0.0108\n",
      "Epoch 9/30\n",
      "\u001b[1m82/82\u001b[0m \u001b[32m━━━━━━━━━━━━━━━━━━━━\u001b[0m\u001b[37m\u001b[0m \u001b[1m1s\u001b[0m 8ms/step - accuracy: 1.0000 - auc: 1.0000 - loss: 1.7304e-04 - val_accuracy: 0.9960 - val_auc: 1.0000 - val_loss: 0.0128\n",
      "Epoch 10/30\n",
      "\u001b[1m82/82\u001b[0m \u001b[32m━━━━━━━━━━━━━━━━━━━━\u001b[0m\u001b[37m\u001b[0m \u001b[1m1s\u001b[0m 6ms/step - accuracy: 1.0000 - auc: 1.0000 - loss: 6.6697e-05 - val_accuracy: 0.9960 - val_auc: 1.0000 - val_loss: 0.0119\n",
      "Epoch 11/30\n",
      "\u001b[1m82/82\u001b[0m \u001b[32m━━━━━━━━━━━━━━━━━━━━\u001b[0m\u001b[37m\u001b[0m \u001b[1m1s\u001b[0m 6ms/step - accuracy: 1.0000 - auc: 1.0000 - loss: 6.7628e-05 - val_accuracy: 0.9960 - val_auc: 1.0000 - val_loss: 0.0117\n",
      "Epoch 12/30\n",
      "\u001b[1m82/82\u001b[0m \u001b[32m━━━━━━━━━━━━━━━━━━━━\u001b[0m\u001b[37m\u001b[0m \u001b[1m0s\u001b[0m 5ms/step - accuracy: 1.0000 - auc: 1.0000 - loss: 6.8730e-05 - val_accuracy: 0.9907 - val_auc: 0.9999 - val_loss: 0.0196\n",
      "Epoch 13/30\n",
      "\u001b[1m82/82\u001b[0m \u001b[32m━━━━━━━━━━━━━━━━━━━━\u001b[0m\u001b[37m\u001b[0m \u001b[1m0s\u001b[0m 4ms/step - accuracy: 1.0000 - auc: 1.0000 - loss: 5.2138e-05 - val_accuracy: 0.9907 - val_auc: 0.9999 - val_loss: 0.0185\n",
      "Epoch 14/30\n",
      "\u001b[1m82/82\u001b[0m \u001b[32m━━━━━━━━━━━━━━━━━━━━\u001b[0m\u001b[37m\u001b[0m \u001b[1m0s\u001b[0m 4ms/step - accuracy: 1.0000 - auc: 1.0000 - loss: 3.8364e-05 - val_accuracy: 0.9894 - val_auc: 0.9999 - val_loss: 0.0226\n",
      "Epoch 15/30\n",
      "\u001b[1m82/82\u001b[0m \u001b[32m━━━━━━━━━━━━━━━━━━━━\u001b[0m\u001b[37m\u001b[0m \u001b[1m0s\u001b[0m 4ms/step - accuracy: 1.0000 - auc: 1.0000 - loss: 2.9851e-05 - val_accuracy: 0.9907 - val_auc: 0.9999 - val_loss: 0.0221\n",
      "Epoch 16/30\n",
      "\u001b[1m82/82\u001b[0m \u001b[32m━━━━━━━━━━━━━━━━━━━━\u001b[0m\u001b[37m\u001b[0m \u001b[1m0s\u001b[0m 4ms/step - accuracy: 1.0000 - auc: 1.0000 - loss: 3.9273e-05 - val_accuracy: 0.9907 - val_auc: 0.9999 - val_loss: 0.0185\n",
      "Epoch 17/30\n",
      "\u001b[1m82/82\u001b[0m \u001b[32m━━━━━━━━━━━━━━━━━━━━\u001b[0m\u001b[37m\u001b[0m \u001b[1m0s\u001b[0m 4ms/step - accuracy: 1.0000 - auc: 1.0000 - loss: 2.0076e-05 - val_accuracy: 0.9907 - val_auc: 0.9999 - val_loss: 0.0183\n",
      "Epoch 18/30\n",
      "\u001b[1m82/82\u001b[0m \u001b[32m━━━━━━━━━━━━━━━━━━━━\u001b[0m\u001b[37m\u001b[0m \u001b[1m0s\u001b[0m 5ms/step - accuracy: 1.0000 - auc: 1.0000 - loss: 2.2785e-04 - val_accuracy: 0.9894 - val_auc: 0.9999 - val_loss: 0.0234\n",
      "Epoch 19/30\n",
      "\u001b[1m82/82\u001b[0m \u001b[32m━━━━━━━━━━━━━━━━━━━━\u001b[0m\u001b[37m\u001b[0m \u001b[1m0s\u001b[0m 4ms/step - accuracy: 1.0000 - auc: 1.0000 - loss: 2.4951e-05 - val_accuracy: 0.9907 - val_auc: 0.9999 - val_loss: 0.0203\n",
      "Epoch 20/30\n",
      "\u001b[1m82/82\u001b[0m \u001b[32m━━━━━━━━━━━━━━━━━━━━\u001b[0m\u001b[37m\u001b[0m \u001b[1m0s\u001b[0m 4ms/step - accuracy: 1.0000 - auc: 1.0000 - loss: 2.1471e-05 - val_accuracy: 0.9907 - val_auc: 1.0000 - val_loss: 0.0184\n",
      "Epoch 21/30\n",
      "\u001b[1m82/82\u001b[0m \u001b[32m━━━━━━━━━━━━━━━━━━━━\u001b[0m\u001b[37m\u001b[0m \u001b[1m0s\u001b[0m 5ms/step - accuracy: 1.0000 - auc: 1.0000 - loss: 1.0759e-05 - val_accuracy: 0.9907 - val_auc: 1.0000 - val_loss: 0.0175\n",
      "Epoch 22/30\n",
      "\u001b[1m82/82\u001b[0m \u001b[32m━━━━━━━━━━━━━━━━━━━━\u001b[0m\u001b[37m\u001b[0m \u001b[1m0s\u001b[0m 4ms/step - accuracy: 1.0000 - auc: 1.0000 - loss: 3.3955e-05 - val_accuracy: 0.9921 - val_auc: 1.0000 - val_loss: 0.0133\n",
      "Epoch 23/30\n",
      "\u001b[1m82/82\u001b[0m \u001b[32m━━━━━━━━━━━━━━━━━━━━\u001b[0m\u001b[37m\u001b[0m \u001b[1m0s\u001b[0m 4ms/step - accuracy: 1.0000 - auc: 1.0000 - loss: 1.2459e-05 - val_accuracy: 0.9921 - val_auc: 1.0000 - val_loss: 0.0130\n",
      "Epoch 24/30\n",
      "\u001b[1m82/82\u001b[0m \u001b[32m━━━━━━━━━━━━━━━━━━━━\u001b[0m\u001b[37m\u001b[0m \u001b[1m0s\u001b[0m 5ms/step - accuracy: 1.0000 - auc: 1.0000 - loss: 1.3145e-05 - val_accuracy: 0.9921 - val_auc: 1.0000 - val_loss: 0.0140\n",
      "Epoch 25/30\n",
      "\u001b[1m82/82\u001b[0m \u001b[32m━━━━━━━━━━━━━━━━━━━━\u001b[0m\u001b[37m\u001b[0m \u001b[1m0s\u001b[0m 5ms/step - accuracy: 1.0000 - auc: 1.0000 - loss: 6.7210e-06 - val_accuracy: 0.9907 - val_auc: 1.0000 - val_loss: 0.0149\n",
      "Epoch 26/30\n",
      "\u001b[1m82/82\u001b[0m \u001b[32m━━━━━━━━━━━━━━━━━━━━\u001b[0m\u001b[37m\u001b[0m \u001b[1m1s\u001b[0m 9ms/step - accuracy: 1.0000 - auc: 1.0000 - loss: 1.0181e-05 - val_accuracy: 0.9907 - val_auc: 1.0000 - val_loss: 0.0153\n",
      "Epoch 27/30\n",
      "\u001b[1m82/82\u001b[0m \u001b[32m━━━━━━━━━━━━━━━━━━━━\u001b[0m\u001b[37m\u001b[0m \u001b[1m1s\u001b[0m 9ms/step - accuracy: 1.0000 - auc: 1.0000 - loss: 7.3398e-06 - val_accuracy: 0.9921 - val_auc: 1.0000 - val_loss: 0.0143\n",
      "Epoch 28/30\n",
      "\u001b[1m82/82\u001b[0m \u001b[32m━━━━━━━━━━━━━━━━━━━━\u001b[0m\u001b[37m\u001b[0m \u001b[1m1s\u001b[0m 6ms/step - accuracy: 1.0000 - auc: 1.0000 - loss: 1.3033e-05 - val_accuracy: 0.9921 - val_auc: 1.0000 - val_loss: 0.0134\n",
      "Epoch 29/30\n",
      "\u001b[1m82/82\u001b[0m \u001b[32m━━━━━━━━━━━━━━━━━━━━\u001b[0m\u001b[37m\u001b[0m \u001b[1m1s\u001b[0m 6ms/step - accuracy: 1.0000 - auc: 1.0000 - loss: 6.9407e-06 - val_accuracy: 0.9921 - val_auc: 1.0000 - val_loss: 0.0142\n",
      "Epoch 30/30\n",
      "\u001b[1m82/82\u001b[0m \u001b[32m━━━━━━━━━━━━━━━━━━━━\u001b[0m\u001b[37m\u001b[0m \u001b[1m0s\u001b[0m 5ms/step - accuracy: 1.0000 - auc: 1.0000 - loss: 8.9903e-06 - val_accuracy: 0.9921 - val_auc: 1.0000 - val_loss: 0.0123\n",
      "Pelatihan model selesai.\n"
     ]
    }
   ],
   "source": [
    "print(\"\\nMemulai pelatihan model...\")\n",
    "history = model.fit(\n",
    "    X_train_processed, y_train,\n",
    "    epochs=30,\n",
    "    batch_size=32,\n",
    "    validation_data=(X_test_processed, y_test),\n",
    "    class_weight=class_weight_dict,\n",
    "    verbose=1\n",
    ")\n",
    "print(\"Pelatihan model selesai.\")"
   ]
  },
  {
   "cell_type": "markdown",
   "metadata": {
    "id": "_m-OuNHnOYft"
   },
   "source": [
    "# Evaluasi"
   ]
  },
  {
   "cell_type": "code",
   "execution_count": 10,
   "metadata": {
    "colab": {
     "base_uri": "https://localhost:8080/",
     "height": 407
    },
    "id": "ib36y2TdqGgc",
    "outputId": "2a8fab1e-7247-48e2-c538-5b7ee826d9d0"
   },
   "outputs": [
    {
     "name": "stdout",
     "output_type": "stream",
     "text": [
      "\n",
      "--- Grafik Performa Pelatihan (diuji pada Holdout Set) ---\n"
     ]
    },
    {
     "data": {
      "image/png": "[encoded data removed]",
      "text/plain": [
       "<Figure size 1600x600 with 2 Axes>"
      ]
     },
     "metadata": {},
     "output_type": "display_data"
    }
   ],
   "source": [
    "# --- Fungsi untuk plot grafik ---\n",
    "def plot_training_history(history):\n",
    "    fig, ax = plt.subplots(1, 2, figsize=(16, 6))\n",
    "    ax[0].plot(history.history['loss'], label='Training Loss')\n",
    "    ax[0].plot(history.history['val_loss'], label='Validation Loss (Holdout)')\n",
    "    ax[0].set_title('Loss Model'); ax[0].set_xlabel('Epoch'); ax[0].set_ylabel('Loss'); ax[0].legend(); ax[0].grid(True)\n",
    "    ax[1].plot(history.history['auc'], label='Training AUC')\n",
    "    ax[1].plot(history.history['val_auc'], label='Validation AUC (Holdout)')\n",
    "    ax[1].set_title('AUC Model'); ax[1].set_xlabel('Epoch'); ax[1].set_ylabel('AUC'); ax[1].legend(); ax[1].grid(True)\n",
    "    plt.show()\n",
    "\n",
    "print(\"\\n--- Grafik Performa Pelatihan (diuji pada Holdout Set) ---\")\n",
    "plot_training_history(history)"
   ]
  },
  {
   "cell_type": "code",
   "execution_count": 11,
   "metadata": {
    "colab": {
     "base_uri": "https://localhost:8080/"
    },
    "id": "PS9hDPsnYPzG",
    "outputId": "8172344b-a2da-409f-b5b6-ab3ef6dd84c6"
   },
   "outputs": [
    {
     "name": "stdout",
     "output_type": "stream",
     "text": [
      "\n",
      "--- HASIL EVALUASI FINAL PADA HOLDEM SET ---\n",
      "\u001b[1m24/24\u001b[0m \u001b[32m━━━━━━━━━━━━━━━━━━━━\u001b[0m\u001b[37m\u001b[0m \u001b[1m0s\u001b[0m 5ms/step\n",
      "\n",
      "Laporan Klasifikasi (Holdout Set):\n",
      "              precision    recall  f1-score   support\n",
      "\n",
      "           0       1.00      0.98      0.99       400\n",
      "           1       0.98      1.00      0.99       355\n",
      "\n",
      "    accuracy                           0.99       755\n",
      "   macro avg       0.99      0.99      0.99       755\n",
      "weighted avg       0.99      0.99      0.99       755\n",
      "\n"
     ]
    }
   ],
   "source": [
    "# Evaluasi final pada holdout set\n",
    "print(\"\\n--- HASIL EVALUASI FINAL PADA HOLDEM SET ---\")\n",
    "y_pred_proba = model.predict(X_test_processed).ravel()\n",
    "y_pred = (y_pred_proba > 0.5).astype(int)\n",
    "\n",
    "print(\"\\nLaporan Klasifikasi (Holdout Set):\")\n",
    "print(classification_report(y_test, y_pred))"
   ]
  },
  {
   "cell_type": "code",
   "execution_count": 12,
   "metadata": {
    "colab": {
     "base_uri": "https://localhost:8080/",
     "height": 524
    },
    "id": "CU_LKHA3YS_S",
    "outputId": "c4e6c6f0-e2b3-4635-de39-a313a95f185e"
   },
   "outputs": [
    {
     "name": "stdout",
     "output_type": "stream",
     "text": [
      "ROC-AUC Score (Holdout Set): 1.0000\n",
      "\n",
      "Confusion Matrix (Holdout Set):\n"
     ]
    },
    {
     "data": {
      "image/png": "[encoded data removed]",
      "text/plain": [
       "<Figure size 640x480 with 2 Axes>"
      ]
     },
     "metadata": {},
     "output_type": "display_data"
    }
   ],
   "source": [
    "roc_auc = roc_auc_score(y_test, y_pred_proba)\n",
    "print(f\"ROC-AUC Score (Holdout Set): {roc_auc:.4f}\")\n",
    "\n",
    "print(\"\\nConfusion Matrix (Holdout Set):\")\n",
    "cm = confusion_matrix(y_test, y_pred)\n",
    "sns.heatmap(cm, annot=True, fmt='d', cmap='Blues', xticklabels=['Normal', 'Fraud'], yticklabels=['Normal', 'Fraud'])\n",
    "plt.xlabel('Prediksi'); plt.ylabel('Aktual'); plt.title('Confusion Matrix (Holdout Set)')\n",
    "plt.show()"
   ]
  },
  {
   "cell_type": "markdown",
   "metadata": {
    "id": "W-7bMOMyOdWR"
   },
   "source": [
    "# Saved Model"
   ]
  },
  {
   "cell_type": "code",
   "execution_count": 13,
   "metadata": {
    "colab": {
     "base_uri": "https://localhost:8080/"
    },
    "id": "WY9KS_QQYYZD",
    "outputId": "2248fe76-dd45-4650-ddce-60050d536c4c"
   },
   "outputs": [
    {
     "name": "stdout",
     "output_type": "stream",
     "text": [
      "\n",
      "Menyimpan model dan preprocessor...\n",
      "INFO:tensorflow:Assets written to: saved_models\\model_savedmodel\\assets\n"
     ]
    },
    {
     "name": "stderr",
     "output_type": "stream",
     "text": [
      "INFO:tensorflow:Assets written to: saved_models\\model_savedmodel\\assets\n"
     ]
    },
    {
     "name": "stdout",
     "output_type": "stream",
     "text": [
      "Saved artifact at 'saved_models\\model_savedmodel'. The following endpoints are available:\n",
      "\n",
      "* Endpoint 'serve'\n",
      "  args_0 (POSITIONAL_ONLY): TensorSpec(shape=(None, 19), dtype=tf.float32, name='keras_tensor')\n",
      "Output Type:\n",
      "  TensorSpec(shape=(None, 1), dtype=tf.float32, name=None)\n",
      "Captures:\n",
      "  2726722286416: TensorSpec(shape=(), dtype=tf.resource, name=None)\n",
      "  2726722284112: TensorSpec(shape=(), dtype=tf.resource, name=None)\n",
      "  2726722286992: TensorSpec(shape=(), dtype=tf.resource, name=None)\n",
      "  2726722286800: TensorSpec(shape=(), dtype=tf.resource, name=None)\n",
      "  2726722283920: TensorSpec(shape=(), dtype=tf.resource, name=None)\n",
      "  2726722283152: TensorSpec(shape=(), dtype=tf.resource, name=None)\n",
      "  2726722283536: TensorSpec(shape=(), dtype=tf.resource, name=None)\n",
      "  2726722283728: TensorSpec(shape=(), dtype=tf.resource, name=None)\n"
     ]
    },
    {
     "name": "stderr",
     "output_type": "stream",
     "text": [
      "WARNING:absl:You are saving your model as an HDF5 file via `model.save()` or `keras.saving.save_model(model)`. This file format is considered legacy. We recommend using instead the native Keras format, e.g. `model.save('my_model.keras')` or `keras.saving.save_model(model, 'my_model.keras')`. \n"
     ]
    },
    {
     "name": "stdout",
     "output_type": "stream",
     "text": [
      "Model disimpan dalam format SavedModel di direktori 'saved_models/model_savedmodel'\n",
      "Model disimpan dalam format Keras di 'saved_models/model.keras'\n",
      "Model disimpan dalam format H5 di 'saved_models/model.h5'\n",
      "Preprocessor disimpan di 'saved_models\\preprocessor.joblib'\n"
     ]
    }
   ],
   "source": [
    "print(\"\\nMenyimpan model dan preprocessor...\")\n",
    "model_dir = 'saved_models'\n",
    "os.makedirs(model_dir, exist_ok=True)\n",
    "\n",
    "# a. Simpan dalam format SavedModel (rekomendasi TensorFlow untuk deployment)\n",
    "# Gunakan model.export() untuk SavedModel format\n",
    "model.export(os.path.join(model_dir, 'model_savedmodel'))\n",
    "print(f\"Model disimpan dalam format SavedModel di direktori '{model_dir}/model_savedmodel'\")\n",
    "\n",
    "# b. Simpan dalam format Keras (.keras) - modern (untuk Keras/TensorFlow)\n",
    "# Gunakan model.save() dengan ekstensi .keras\n",
    "model.save(os.path.join(model_dir, 'model.keras'))\n",
    "print(f\"Model disimpan dalam format Keras di '{model_dir}/model.keras'\")\n",
    "\n",
    "# c. Simpan dalam format HDF5 (.h5) - legacy (untuk kompatibilitas)\n",
    "# Gunakan model.save() dengan ekstensi .h5\n",
    "model.save(os.path.join(model_dir, 'model.h5'))\n",
    "print(f\"Model disimpan dalam format H5 di '{model_dir}/model.h5'\")\n",
    "\n",
    "# d. Simpan preprocessor menggunakan joblib\n",
    "preprocessor_path = os.path.join(model_dir, 'preprocessor.joblib')\n",
    "joblib.dump(preprocessor, preprocessor_path)\n",
    "print(f\"Preprocessor disimpan di '{preprocessor_path}'\")\n",
    "\n",
    "# %%"
   ]
  },
  {
   "cell_type": "markdown",
   "metadata": {
    "id": "BXy1by6UOhll"
   },
   "source": [
    "# Contoh Inferensi"
   ]
  },
  {
   "cell_type": "code",
   "execution_count": 14,
   "metadata": {
    "colab": {
     "base_uri": "https://localhost:8080/"
    },
    "id": "T9bbt0bvYbzM",
    "outputId": "3cee7fc0-eb23-4052-fe9d-8d662e81136b"
   },
   "outputs": [
    {
     "name": "stdout",
     "output_type": "stream",
     "text": [
      "\n",
      "--- Contoh Proses Inferensi ---\n",
      "Model dan preprocessor berhasil dimuat kembali.\n",
      "\n",
      "Data baru untuk diprediksi (pola holdout):\n",
      "      amount transaction_type merchant_category location  hour_of_day  \\\n",
      "0  8000000.0       withdrawal     travel_agency  Nairobi           14   \n",
      "\n",
      "   day_of_week  \n",
      "0            2  \n",
      "\u001b[1m1/1\u001b[0m \u001b[32m━━━━━━━━━━━━━━━━━━━━\u001b[0m\u001b[37m\u001b[0m \u001b[1m0s\u001b[0m 177ms/step\n",
      "\n",
      "Hasil Prediksi (Probabilitas): 1.0000\n",
      "Kesimpulan: Transaksi terdeteksi sebagai ANOMALI (FRAUD)\n"
     ]
    }
   ],
   "source": [
    "print(\"\\n--- Contoh Proses Inferensi ---\")\n",
    "\n",
    "# Muat kembali model dan preprocessor\n",
    "# Muat model dari format .keras\n",
    "model_path_keras = os.path.join(model_dir, 'model.keras')\n",
    "loaded_model = tf.keras.models.load_model(model_path_keras)\n",
    "loaded_preprocessor = joblib.load(preprocessor_path)\n",
    "print(\"Model dan preprocessor berhasil dimuat kembali.\")\n",
    "\n",
    "# Buat contoh data baru (dengan aturan anomali dari holdout set)\n",
    "new_data_holdout = pd.DataFrame({\n",
    "    'amount': [8000000.0],\n",
    "    'transaction_type': ['withdrawal'],\n",
    "    'merchant_category': ['travel_agency'],\n",
    "    'location': ['Nairobi'], # <-- Lokasi dari aturan holdout\n",
    "    'hour_of_day': [14],\n",
    "    'day_of_week': [2]\n",
    "})\n",
    "\n",
    "print(\"\\nData baru untuk diprediksi (pola holdout):\")\n",
    "print(new_data_holdout)\n",
    "\n",
    "# Terapkan preprocessor\n",
    "new_data_processed = loaded_preprocessor.transform(new_data_holdout)\n",
    "\n",
    "# Lakukan prediksi\n",
    "prediction_proba = loaded_model.predict(new_data_processed)\n",
    "prediction = (prediction_proba > 0.5).astype(int)\n",
    "\n",
    "print(f\"\\nHasil Prediksi (Probabilitas): {prediction_proba[0][0]:.4f}\")\n",
    "if prediction[0][0] == 1:\n",
    "    print(\"Kesimpulan: Transaksi terdeteksi sebagai ANOMALI (FRAUD)\")\n",
    "else:\n",
    "    print(\"Kesimpulan: Transaksi terdeteksi sebagai NORMAL\")"
   ]
  },
  {
   "cell_type": "code",
   "execution_count": 15,
   "metadata": {
    "colab": {
     "base_uri": "https://localhost:8080/"
    },
    "id": "9e-QWo_EZTmW",
    "outputId": "e7c57661-c86e-4a8b-f548-8bcd34949426"
   },
   "outputs": [
    {
     "name": "stdout",
     "output_type": "stream",
     "text": [
      "\n",
      "Data baru untuk diprediksi:\n",
      "     amount transaction_type merchant_category location  hour_of_day  \\\n",
      "0  250000.0       withdrawal         groceries  Bandung           14   \n",
      "\n",
      "   day_of_week  \n",
      "0            5  \n",
      "\u001b[1m1/1\u001b[0m \u001b[32m━━━━━━━━━━━━━━━━━━━━\u001b[0m\u001b[37m\u001b[0m \u001b[1m0s\u001b[0m 49ms/step\n",
      "\n",
      "Hasil Prediksi (Probabilitas Fraud): 0.0000\n",
      "Kesimpulan: Transaksi terdeteksi sebagai NORMAL\n"
     ]
    }
   ],
   "source": [
    "# Contoh kedua\n",
    "new_data = pd.DataFrame({\n",
    "    'amount': [250000.0],\n",
    "    'transaction_type': ['withdrawal'],\n",
    "    'merchant_category': ['groceries'],\n",
    "    'location': ['Bandung'],\n",
    "    'hour_of_day': [14],\n",
    "    'day_of_week': [5]\n",
    "})\n",
    "\n",
    "print(\"\\nData baru untuk diprediksi:\")\n",
    "print(new_data)\n",
    "\n",
    "# --- 3. LAKUKAN PREDIKSI ---\n",
    "# Terapkan preprocessor yang sudah dilatih ke data baru\n",
    "new_data_processed = loaded_preprocessor.transform(new_data)\n",
    "\n",
    "# Lakukan prediksi\n",
    "prediction_proba = loaded_model.predict(new_data_processed)\n",
    "prediction = (prediction_proba > 0.5).astype(int) # Menggunakan threshold 0.5\n",
    "\n",
    "# --- 4. TAMPILKAN HASIL ---\n",
    "print(f\"\\nHasil Prediksi (Probabilitas Fraud): {prediction_proba[0][0]:.4f}\")\n",
    "if prediction[0][0] == 1:\n",
    "    print(\"Kesimpulan: Transaksi terdeteksi sebagai ANOMALI (FRAUD)\")\n",
    "else:\n",
    "    print(\"Kesimpulan: Transaksi terdeteksi sebagai NORMAL\")"
   ]
  },
  {
   "cell_type": "code",
   "execution_count": 16,
   "metadata": {
    "id": "sd4-rU6H1fKr"
   },
   "outputs": [],
   "source": [
    "# Jalankan ini di Google Colab Anda\n",
    "!pip freeze > requirements.txt"
   ]
  },
  {
   "cell_type": "code",
   "execution_count": null,
   "metadata": {
    "id": "VvZLC-YLTjij"
   },
   "outputs": [],
   "source": []
  }
 ],
 "metadata": {
  "colab": {
   "provenance": []
  },
  "kernelspec": {
   "display_name": "Python 3 (ipykernel)",
   "language": "python",
   "name": "python3"
  },
  "language_info": {
   "codemirror_mode": {
    "name": "ipython",
    "version": 3
   },
   "file_extension": ".py",
   "mimetype": "text/x-python",
   "name": "python",
   "nbconvert_exporter": "python",
   "pygments_lexer": "ipython3",
   "version": "3.11.1"
  }
 },
 "nbformat": 4,
 "nbformat_minor": 4
}

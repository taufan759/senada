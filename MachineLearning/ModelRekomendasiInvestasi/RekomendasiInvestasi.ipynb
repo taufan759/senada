{
 "cells": [
  {
   "cell_type": "code",
   "execution_count": 1,
   "metadata": {
    "id": "gbyH7go9Udu8"
   },
   "outputs": [],
   "source": [
    "import pandas as pd\n",
    "import numpy as np\n",
    "import tensorflow as tf\n",
    "from sklearn.model_selection import train_test_split\n",
    "from sklearn.preprocessing import StandardScaler, OneHotEncoder\n",
    "from sklearn.compose import ColumnTransformer\n",
    "from sklearn.pipeline import Pipeline\n",
    "from sklearn.metrics import classification_report, confusion_matrix\n",
    "import seaborn as sns\n",
    "import matplotlib.pyplot as plt\n",
    "import joblib\n",
    "import os\n",
    "\n",
    "# Memastikan output konsisten\n",
    "np.random.seed(42)\n",
    "tf.random.set_seed(42)"
   ]
  },
  {
   "cell_type": "code",
   "execution_count": 2,
   "metadata": {
    "colab": {
     "base_uri": "https://localhost:8080/"
    },
    "id": "xzZUQKDqUj3_",
    "outputId": "8938c2f5-57fc-4457-c73a-0352fd9100ee"
   },
   "outputs": [
    {
     "name": "stdout",
     "output_type": "stream",
     "text": [
      "Langkah 1: Memuat Data...\n",
      "Data berhasil dimuat. Jumlah baris awal: 79776\n"
     ]
    }
   ],
   "source": [
    "print(\"Langkah 1: Memuat Data...\")\n",
    "try:\n",
    "    df = pd.read_csv('dataset_investasi_large2.csv')\n",
    "    print(f\"Data berhasil dimuat. Jumlah baris awal: {len(df)}\")\n",
    "except FileNotFoundError:\n",
    "    print(\"\\nERROR: File 'dataset_investasi_large2.csv' tidak ditemukan.\")\n",
    "    print(\"Pastikan file CSV berada di folder yang sama dengan script ini.\")\n",
    "    exit()"
   ]
  },
  {
   "cell_type": "code",
   "execution_count": 3,
   "metadata": {
    "colab": {
     "base_uri": "https://localhost:8080/",
     "height": 365
    },
    "id": "IHvAPaT9VulM",
    "outputId": "eb2ccd58-79e3-4afb-bff4-f180565a98d9"
   },
   "outputs": [
    {
     "data": {
      "text/html": [
       "<div>\n",
       "<style scoped>\n",
       "    .dataframe tbody tr th:only-of-type {\n",
       "        vertical-align: middle;\n",
       "    }\n",
       "\n",
       "    .dataframe tbody tr th {\n",
       "        vertical-align: top;\n",
       "    }\n",
       "\n",
       "    .dataframe thead th {\n",
       "        text-align: right;\n",
       "    }\n",
       "</style>\n",
       "<table border=\"1\" class=\"dataframe\">\n",
       "  <thead>\n",
       "    <tr style=\"text-align: right;\">\n",
       "      <th></th>\n",
       "      <th>user_id</th>\n",
       "      <th>usia</th>\n",
       "      <th>profil_risiko</th>\n",
       "      <th>pendapatan_bulanan_juta</th>\n",
       "      <th>tingkat_pengetahuan</th>\n",
       "      <th>status_pernikahan</th>\n",
       "      <th>jumlah_tanggungan</th>\n",
       "      <th>tujuan_keuangan</th>\n",
       "      <th>jangka_waktu_thn</th>\n",
       "      <th>target_dana_juta</th>\n",
       "      <th>produk_id</th>\n",
       "      <th>nama_produk</th>\n",
       "      <th>jenis_produk</th>\n",
       "      <th>tingkat_risiko_skor</th>\n",
       "      <th>potensi_return_tahunan_persen</th>\n",
       "      <th>likuiditas</th>\n",
       "      <th>minimum_investasi_rp</th>\n",
       "      <th>rekomendasi</th>\n",
       "    </tr>\n",
       "  </thead>\n",
       "  <tbody>\n",
       "    <tr>\n",
       "      <th>0</th>\n",
       "      <td>user_00001</td>\n",
       "      <td>50</td>\n",
       "      <td>Moderat</td>\n",
       "      <td>11</td>\n",
       "      <td>Menengah</td>\n",
       "      <td>Lajang</td>\n",
       "      <td>0</td>\n",
       "      <td>Dana Beli Rumah</td>\n",
       "      <td>6.3</td>\n",
       "      <td>431</td>\n",
       "      <td>P01</td>\n",
       "      <td>Reksa Dana Pasar Uang Amanah</td>\n",
       "      <td>Reksa Dana Pasar Uang</td>\n",
       "      <td>1</td>\n",
       "      <td>4.50</td>\n",
       "      <td>Sangat Tinggi</td>\n",
       "      <td>10000</td>\n",
       "      <td>1</td>\n",
       "    </tr>\n",
       "    <tr>\n",
       "      <th>1</th>\n",
       "      <td>user_00001</td>\n",
       "      <td>50</td>\n",
       "      <td>Moderat</td>\n",
       "      <td>11</td>\n",
       "      <td>Menengah</td>\n",
       "      <td>Lajang</td>\n",
       "      <td>0</td>\n",
       "      <td>Dana Beli Rumah</td>\n",
       "      <td>6.3</td>\n",
       "      <td>431</td>\n",
       "      <td>P02</td>\n",
       "      <td>Tabungan Emas Digital</td>\n",
       "      <td>Emas Digital</td>\n",
       "      <td>2</td>\n",
       "      <td>5.00</td>\n",
       "      <td>Tinggi</td>\n",
       "      <td>10000</td>\n",
       "      <td>1</td>\n",
       "    </tr>\n",
       "    <tr>\n",
       "      <th>2</th>\n",
       "      <td>user_00001</td>\n",
       "      <td>50</td>\n",
       "      <td>Moderat</td>\n",
       "      <td>11</td>\n",
       "      <td>Menengah</td>\n",
       "      <td>Lajang</td>\n",
       "      <td>0</td>\n",
       "      <td>Dana Beli Rumah</td>\n",
       "      <td>6.3</td>\n",
       "      <td>431</td>\n",
       "      <td>P03</td>\n",
       "      <td>SBN Ritel ORI025</td>\n",
       "      <td>SBN Ritel</td>\n",
       "      <td>2</td>\n",
       "      <td>6.25</td>\n",
       "      <td>Rendah</td>\n",
       "      <td>1000000</td>\n",
       "      <td>1</td>\n",
       "    </tr>\n",
       "    <tr>\n",
       "      <th>3</th>\n",
       "      <td>user_00001</td>\n",
       "      <td>50</td>\n",
       "      <td>Moderat</td>\n",
       "      <td>11</td>\n",
       "      <td>Menengah</td>\n",
       "      <td>Lajang</td>\n",
       "      <td>0</td>\n",
       "      <td>Dana Beli Rumah</td>\n",
       "      <td>6.3</td>\n",
       "      <td>431</td>\n",
       "      <td>P04</td>\n",
       "      <td>Reksa Dana Pendapatan Tetap Stabil</td>\n",
       "      <td>Reksa Dana Pendapatan Tetap</td>\n",
       "      <td>3</td>\n",
       "      <td>7.00</td>\n",
       "      <td>Sedang</td>\n",
       "      <td>100000</td>\n",
       "      <td>1</td>\n",
       "    </tr>\n",
       "    <tr>\n",
       "      <th>4</th>\n",
       "      <td>user_00001</td>\n",
       "      <td>50</td>\n",
       "      <td>Moderat</td>\n",
       "      <td>11</td>\n",
       "      <td>Menengah</td>\n",
       "      <td>Lajang</td>\n",
       "      <td>0</td>\n",
       "      <td>Dana Beli Rumah</td>\n",
       "      <td>6.3</td>\n",
       "      <td>431</td>\n",
       "      <td>P05</td>\n",
       "      <td>Reksa Dana Campuran Seimbang</td>\n",
       "      <td>Reksa Dana Campuran</td>\n",
       "      <td>5</td>\n",
       "      <td>10.00</td>\n",
       "      <td>Sedang</td>\n",
       "      <td>100000</td>\n",
       "      <td>0</td>\n",
       "    </tr>\n",
       "  </tbody>\n",
       "</table>\n",
       "</div>"
      ],
      "text/plain": [
       "      user_id  usia profil_risiko  pendapatan_bulanan_juta  \\\n",
       "0  user_00001    50       Moderat                       11   \n",
       "1  user_00001    50       Moderat                       11   \n",
       "2  user_00001    50       Moderat                       11   \n",
       "3  user_00001    50       Moderat                       11   \n",
       "4  user_00001    50       Moderat                       11   \n",
       "\n",
       "  tingkat_pengetahuan status_pernikahan  jumlah_tanggungan  tujuan_keuangan  \\\n",
       "0            Menengah            Lajang                  0  Dana Beli Rumah   \n",
       "1            Menengah            Lajang                  0  Dana Beli Rumah   \n",
       "2            Menengah            Lajang                  0  Dana Beli Rumah   \n",
       "3            Menengah            Lajang                  0  Dana Beli Rumah   \n",
       "4            Menengah            Lajang                  0  Dana Beli Rumah   \n",
       "\n",
       "   jangka_waktu_thn  target_dana_juta produk_id  \\\n",
       "0               6.3               431       P01   \n",
       "1               6.3               431       P02   \n",
       "2               6.3               431       P03   \n",
       "3               6.3               431       P04   \n",
       "4               6.3               431       P05   \n",
       "\n",
       "                          nama_produk                 jenis_produk  \\\n",
       "0        Reksa Dana Pasar Uang Amanah        Reksa Dana Pasar Uang   \n",
       "1               Tabungan Emas Digital                 Emas Digital   \n",
       "2                    SBN Ritel ORI025                    SBN Ritel   \n",
       "3  Reksa Dana Pendapatan Tetap Stabil  Reksa Dana Pendapatan Tetap   \n",
       "4        Reksa Dana Campuran Seimbang          Reksa Dana Campuran   \n",
       "\n",
       "   tingkat_risiko_skor  potensi_return_tahunan_persen     likuiditas  \\\n",
       "0                    1                           4.50  Sangat Tinggi   \n",
       "1                    2                           5.00         Tinggi   \n",
       "2                    2                           6.25         Rendah   \n",
       "3                    3                           7.00         Sedang   \n",
       "4                    5                          10.00         Sedang   \n",
       "\n",
       "   minimum_investasi_rp  rekomendasi  \n",
       "0                 10000            1  \n",
       "1                 10000            1  \n",
       "2               1000000            1  \n",
       "3                100000            1  \n",
       "4                100000            0  "
      ]
     },
     "execution_count": 3,
     "metadata": {},
     "output_type": "execute_result"
    }
   ],
   "source": [
    "df.head()"
   ]
  },
  {
   "cell_type": "code",
   "execution_count": 4,
   "metadata": {
    "colab": {
     "base_uri": "https://localhost:8080/"
    },
    "id": "AuMBgW8iUnFm",
    "outputId": "9cd6e981-e8fc-4cf1-e657-06b03d7780e8"
   },
   "outputs": [
    {
     "name": "stdout",
     "output_type": "stream",
     "text": [
      "[INFO] Mengecek missing values...\n",
      "-> Tidak ada missing values ditemukan.\n"
     ]
    }
   ],
   "source": [
    "print(\"[INFO] Mengecek missing values...\")\n",
    "if df.isnull().sum().sum() > 0:\n",
    "    print(f\"Ditemukan missing values. Jumlahnya:\\n{df.isnull().sum()[df.isnull().sum() > 0]}\")\n",
    "    # Untuk contoh ini, kita pilih strategi menghapus baris yang mengandung null\n",
    "    # Untuk kasus riil, pertimbangkan strategi imputasi (mengisi nilai)\n",
    "    df.dropna(inplace=True)\n",
    "    print(\"-> Baris dengan missing values telah dihapus.\")\n",
    "else:\n",
    "    print(\"-> Tidak ada missing values ditemukan.\")"
   ]
  },
  {
   "cell_type": "code",
   "execution_count": 5,
   "metadata": {
    "colab": {
     "base_uri": "https://localhost:8080/"
    },
    "id": "3miXkaoQUq-s",
    "outputId": "f5c4075c-4b53-44f9-a6ac-1b2ecb4517a1"
   },
   "outputs": [
    {
     "name": "stdout",
     "output_type": "stream",
     "text": [
      "\n",
      "[INFO] Mengecek data duplikat...\n",
      "-> Tidak ada data duplikat ditemukan.\n"
     ]
    }
   ],
   "source": [
    "print(\"\\n[INFO] Mengecek data duplikat...\")\n",
    "duplicate_count = df.duplicated().sum()\n",
    "if duplicate_count > 0:\n",
    "    print(f\"-> Ditemukan {duplicate_count} baris data duplikat. Menghapus...\")\n",
    "    df.drop_duplicates(inplace=True)\n",
    "else:\n",
    "    print(\"-> Tidak ada data duplikat ditemukan.\")"
   ]
  },
  {
   "cell_type": "code",
   "execution_count": 6,
   "metadata": {
    "colab": {
     "base_uri": "https://localhost:8080/"
    },
    "id": "ecMMMR4UUtRR",
    "outputId": "377345c7-3bf4-4fe4-ae81-3a60f0bd64b8"
   },
   "outputs": [
    {
     "name": "stdout",
     "output_type": "stream",
     "text": [
      "\n",
      "Data Cleaning Selesai. Jumlah baris setelah cleaning: 79776\n"
     ]
    }
   ],
   "source": [
    "# Reset index setelah cleaning agar urutannya kembali normal\n",
    "df.reset_index(drop=True, inplace=True)\n",
    "print(f\"\\nData Cleaning Selesai. Jumlah baris setelah cleaning: {len(df)}\")"
   ]
  },
  {
   "cell_type": "code",
   "execution_count": 7,
   "metadata": {
    "colab": {
     "base_uri": "https://localhost:8080/"
    },
    "id": "UsGR7ufTUvad",
    "outputId": "3861ea05-b1ad-48e0-dcd6-388aceb1aa1b"
   },
   "outputs": [
    {
     "name": "stdout",
     "output_type": "stream",
     "text": [
      "\n",
      "Langkah 2: Pra-pemrosesan Data...\n"
     ]
    }
   ],
   "source": [
    "print(\"\\nLangkah 2: Pra-pemrosesan Data...\")\n",
    "\n",
    "# Pisahkan fitur dan target\n",
    "X = df.drop('rekomendasi', axis=1)\n",
    "y = df['rekomendasi']"
   ]
  },
  {
   "cell_type": "code",
   "execution_count": 8,
   "metadata": {
    "id": "3k6WGsTdU0YJ"
   },
   "outputs": [],
   "source": [
    "# Identifikasi fitur yang tidak relevan untuk training\n",
    "features_to_drop = ['user_id', 'produk_id', 'nama_produk']\n",
    "X = X.drop(columns=features_to_drop)"
   ]
  },
  {
   "cell_type": "code",
   "execution_count": 9,
   "metadata": {
    "id": "GKyl1OvmU2gk"
   },
   "outputs": [],
   "source": [
    "# Identifikasi kolom numerik dan kategorikal\n",
    "numerical_features = X.select_dtypes(include=np.number).columns.tolist()\n",
    "categorical_features = X.select_dtypes(include='object').columns.tolist()\n",
    "\n",
    "X_train, X_test, y_train, y_test = train_test_split(X, y, test_size=0.2, random_state=42, stratify=y)"
   ]
  },
  {
   "cell_type": "code",
   "execution_count": 10,
   "metadata": {
    "id": "f0Jk61yWU5sa"
   },
   "outputs": [],
   "source": [
    "# Buat pipeline preprocessing\n",
    "numeric_transformer = StandardScaler()\n",
    "categorical_transformer = OneHotEncoder(handle_unknown='ignore')\n",
    "preprocessor = ColumnTransformer(\n",
    "    transformers=[\n",
    "        ('num', numeric_transformer, numerical_features),\n",
    "        ('cat', categorical_transformer, categorical_features)\n",
    "    ],\n",
    "    remainder='passthrough'\n",
    ")"
   ]
  },
  {
   "cell_type": "code",
   "execution_count": 11,
   "metadata": {
    "colab": {
     "base_uri": "https://localhost:8080/"
    },
    "id": "Lxgs13qVU8kk",
    "outputId": "d3c462f4-19a4-4e03-e54c-81a1526a9c7b"
   },
   "outputs": [
    {
     "name": "stdout",
     "output_type": "stream",
     "text": [
      "Preprocessor berhasil disimpan sebagai 'investment_preprocessor.joblib'\n"
     ]
    }
   ],
   "source": [
    "# Terapkan preprocessor\n",
    "X_train_processed = preprocessor.fit_transform(X_train)\n",
    "X_test_processed = preprocessor.transform(X_test)\n",
    "\n",
    "# Simpan preprocessor\n",
    "joblib.dump(preprocessor, 'investment_preprocessor.joblib')\n",
    "print(\"Preprocessor berhasil disimpan sebagai 'investment_preprocessor.joblib'\")"
   ]
  },
  {
   "cell_type": "code",
   "execution_count": 12,
   "metadata": {
    "colab": {
     "base_uri": "https://localhost:8080/",
     "height": 356
    },
    "id": "Y_64rZz6U_QM",
    "outputId": "94b5d069-a930-4c27-ff74-7f3bef35f156"
   },
   "outputs": [
    {
     "name": "stdout",
     "output_type": "stream",
     "text": [
      "\n",
      "Langkah 3: Membangun Model TensorFlow...\n"
     ]
    },
    {
     "data": {
      "text/html": [
       "<pre style=\"white-space:pre;overflow-x:auto;line-height:normal;font-family:Menlo,'DejaVu Sans Mono',consolas,'Courier New',monospace\"><span style=\"font-weight: bold\">Model: \"sequential\"</span>\n",
       "</pre>\n"
      ],
      "text/plain": [
       "\u001b[1mModel: \"sequential\"\u001b[0m\n"
      ]
     },
     "metadata": {},
     "output_type": "display_data"
    },
    {
     "data": {
      "text/html": [
       "<pre style=\"white-space:pre;overflow-x:auto;line-height:normal;font-family:Menlo,'DejaVu Sans Mono',consolas,'Courier New',monospace\">┏━━━━━━━━━━━━━━━━━━━━━━━━━━━━━━━━━━━━━━┳━━━━━━━━━━━━━━━━━━━━━━━━━━━━━┳━━━━━━━━━━━━━━━━━┓\n",
       "┃<span style=\"font-weight: bold\"> Layer (type)                         </span>┃<span style=\"font-weight: bold\"> Output Shape                </span>┃<span style=\"font-weight: bold\">         Param # </span>┃\n",
       "┡━━━━━━━━━━━━━━━━━━━━━━━━━━━━━━━━━━━━━━╇━━━━━━━━━━━━━━━━━━━━━━━━━━━━━╇━━━━━━━━━━━━━━━━━┩\n",
       "│ dense (<span style=\"color: #0087ff; text-decoration-color: #0087ff\">Dense</span>)                        │ (<span style=\"color: #00d7ff; text-decoration-color: #00d7ff\">None</span>, <span style=\"color: #00af00; text-decoration-color: #00af00\">128</span>)                 │           <span style=\"color: #00af00; text-decoration-color: #00af00\">4,480</span> │\n",
       "├──────────────────────────────────────┼─────────────────────────────┼─────────────────┤\n",
       "│ dropout (<span style=\"color: #0087ff; text-decoration-color: #0087ff\">Dropout</span>)                    │ (<span style=\"color: #00d7ff; text-decoration-color: #00d7ff\">None</span>, <span style=\"color: #00af00; text-decoration-color: #00af00\">128</span>)                 │               <span style=\"color: #00af00; text-decoration-color: #00af00\">0</span> │\n",
       "├──────────────────────────────────────┼─────────────────────────────┼─────────────────┤\n",
       "│ dense_1 (<span style=\"color: #0087ff; text-decoration-color: #0087ff\">Dense</span>)                      │ (<span style=\"color: #00d7ff; text-decoration-color: #00d7ff\">None</span>, <span style=\"color: #00af00; text-decoration-color: #00af00\">64</span>)                  │           <span style=\"color: #00af00; text-decoration-color: #00af00\">8,256</span> │\n",
       "├──────────────────────────────────────┼─────────────────────────────┼─────────────────┤\n",
       "│ dropout_1 (<span style=\"color: #0087ff; text-decoration-color: #0087ff\">Dropout</span>)                  │ (<span style=\"color: #00d7ff; text-decoration-color: #00d7ff\">None</span>, <span style=\"color: #00af00; text-decoration-color: #00af00\">64</span>)                  │               <span style=\"color: #00af00; text-decoration-color: #00af00\">0</span> │\n",
       "├──────────────────────────────────────┼─────────────────────────────┼─────────────────┤\n",
       "│ dense_2 (<span style=\"color: #0087ff; text-decoration-color: #0087ff\">Dense</span>)                      │ (<span style=\"color: #00d7ff; text-decoration-color: #00d7ff\">None</span>, <span style=\"color: #00af00; text-decoration-color: #00af00\">32</span>)                  │           <span style=\"color: #00af00; text-decoration-color: #00af00\">2,080</span> │\n",
       "├──────────────────────────────────────┼─────────────────────────────┼─────────────────┤\n",
       "│ dense_3 (<span style=\"color: #0087ff; text-decoration-color: #0087ff\">Dense</span>)                      │ (<span style=\"color: #00d7ff; text-decoration-color: #00d7ff\">None</span>, <span style=\"color: #00af00; text-decoration-color: #00af00\">1</span>)                   │              <span style=\"color: #00af00; text-decoration-color: #00af00\">33</span> │\n",
       "└──────────────────────────────────────┴─────────────────────────────┴─────────────────┘\n",
       "</pre>\n"
      ],
      "text/plain": [
       "┏━━━━━━━━━━━━━━━━━━━━━━━━━━━━━━━━━━━━━━┳━━━━━━━━━━━━━━━━━━━━━━━━━━━━━┳━━━━━━━━━━━━━━━━━┓\n",
       "┃\u001b[1m \u001b[0m\u001b[1mLayer (type)                        \u001b[0m\u001b[1m \u001b[0m┃\u001b[1m \u001b[0m\u001b[1mOutput Shape               \u001b[0m\u001b[1m \u001b[0m┃\u001b[1m \u001b[0m\u001b[1m        Param #\u001b[0m\u001b[1m \u001b[0m┃\n",
       "┡━━━━━━━━━━━━━━━━━━━━━━━━━━━━━━━━━━━━━━╇━━━━━━━━━━━━━━━━━━━━━━━━━━━━━╇━━━━━━━━━━━━━━━━━┩\n",
       "│ dense (\u001b[38;5;33mDense\u001b[0m)                        │ (\u001b[38;5;45mNone\u001b[0m, \u001b[38;5;34m128\u001b[0m)                 │           \u001b[38;5;34m4,480\u001b[0m │\n",
       "├──────────────────────────────────────┼─────────────────────────────┼─────────────────┤\n",
       "│ dropout (\u001b[38;5;33mDropout\u001b[0m)                    │ (\u001b[38;5;45mNone\u001b[0m, \u001b[38;5;34m128\u001b[0m)                 │               \u001b[38;5;34m0\u001b[0m │\n",
       "├──────────────────────────────────────┼─────────────────────────────┼─────────────────┤\n",
       "│ dense_1 (\u001b[38;5;33mDense\u001b[0m)                      │ (\u001b[38;5;45mNone\u001b[0m, \u001b[38;5;34m64\u001b[0m)                  │           \u001b[38;5;34m8,256\u001b[0m │\n",
       "├──────────────────────────────────────┼─────────────────────────────┼─────────────────┤\n",
       "│ dropout_1 (\u001b[38;5;33mDropout\u001b[0m)                  │ (\u001b[38;5;45mNone\u001b[0m, \u001b[38;5;34m64\u001b[0m)                  │               \u001b[38;5;34m0\u001b[0m │\n",
       "├──────────────────────────────────────┼─────────────────────────────┼─────────────────┤\n",
       "│ dense_2 (\u001b[38;5;33mDense\u001b[0m)                      │ (\u001b[38;5;45mNone\u001b[0m, \u001b[38;5;34m32\u001b[0m)                  │           \u001b[38;5;34m2,080\u001b[0m │\n",
       "├──────────────────────────────────────┼─────────────────────────────┼─────────────────┤\n",
       "│ dense_3 (\u001b[38;5;33mDense\u001b[0m)                      │ (\u001b[38;5;45mNone\u001b[0m, \u001b[38;5;34m1\u001b[0m)                   │              \u001b[38;5;34m33\u001b[0m │\n",
       "└──────────────────────────────────────┴─────────────────────────────┴─────────────────┘\n"
      ]
     },
     "metadata": {},
     "output_type": "display_data"
    },
    {
     "data": {
      "text/html": [
       "<pre style=\"white-space:pre;overflow-x:auto;line-height:normal;font-family:Menlo,'DejaVu Sans Mono',consolas,'Courier New',monospace\"><span style=\"font-weight: bold\"> Total params: </span><span style=\"color: #00af00; text-decoration-color: #00af00\">14,849</span> (58.00 KB)\n",
       "</pre>\n"
      ],
      "text/plain": [
       "\u001b[1m Total params: \u001b[0m\u001b[38;5;34m14,849\u001b[0m (58.00 KB)\n"
      ]
     },
     "metadata": {},
     "output_type": "display_data"
    },
    {
     "data": {
      "text/html": [
       "<pre style=\"white-space:pre;overflow-x:auto;line-height:normal;font-family:Menlo,'DejaVu Sans Mono',consolas,'Courier New',monospace\"><span style=\"font-weight: bold\"> Trainable params: </span><span style=\"color: #00af00; text-decoration-color: #00af00\">14,849</span> (58.00 KB)\n",
       "</pre>\n"
      ],
      "text/plain": [
       "\u001b[1m Trainable params: \u001b[0m\u001b[38;5;34m14,849\u001b[0m (58.00 KB)\n"
      ]
     },
     "metadata": {},
     "output_type": "display_data"
    },
    {
     "data": {
      "text/html": [
       "<pre style=\"white-space:pre;overflow-x:auto;line-height:normal;font-family:Menlo,'DejaVu Sans Mono',consolas,'Courier New',monospace\"><span style=\"font-weight: bold\"> Non-trainable params: </span><span style=\"color: #00af00; text-decoration-color: #00af00\">0</span> (0.00 B)\n",
       "</pre>\n"
      ],
      "text/plain": [
       "\u001b[1m Non-trainable params: \u001b[0m\u001b[38;5;34m0\u001b[0m (0.00 B)\n"
      ]
     },
     "metadata": {},
     "output_type": "display_data"
    }
   ],
   "source": [
    "print(\"\\nLangkah 3: Membangun Model TensorFlow...\")\n",
    "\n",
    "input_shape = X_train_processed.shape[1]\n",
    "model = tf.keras.Sequential([\n",
    "    tf.keras.layers.Input(shape=(input_shape,)),\n",
    "    tf.keras.layers.Dense(128, activation='relu'),\n",
    "    tf.keras.layers.Dropout(0.3),\n",
    "    tf.keras.layers.Dense(64, activation='relu'),\n",
    "    tf.keras.layers.Dropout(0.3),\n",
    "    tf.keras.layers.Dense(32, activation='relu'),\n",
    "    tf.keras.layers.Dense(1, activation='sigmoid')\n",
    "])\n",
    "\n",
    "model.compile(\n",
    "    optimizer='adam',\n",
    "    loss='binary_crossentropy',\n",
    "    metrics=['accuracy']\n",
    ")\n",
    "model.summary()"
   ]
  },
  {
   "cell_type": "code",
   "execution_count": null,
   "metadata": {
    "colab": {
     "base_uri": "https://localhost:8080/"
    },
    "id": "rjoQUl6yVCUZ",
    "outputId": "20d9d512-4968-4cab-e0c8-f1993b4ce84d"
   },
   "outputs": [
    {
     "name": "stdout",
     "output_type": "stream",
     "text": [
      "\n",
      "Langkah 4: Pelatihan Model...\n",
      "Epoch 1/100\n",
      "\u001b[1m798/798\u001b[0m \u001b[32m━━━━━━━━━━━━━━━━━━━━\u001b[0m\u001b[37m\u001b[0m \u001b[1m5s\u001b[0m 4ms/step - accuracy: 0.8489 - loss: 0.3463 - val_accuracy: 0.9591 - val_loss: 0.1304\n",
      "Epoch 2/100\n",
      "\u001b[1m798/798\u001b[0m \u001b[32m━━━━━━━━━━━━━━━━━━━━\u001b[0m\u001b[37m\u001b[0m \u001b[1m3s\u001b[0m 3ms/step - accuracy: 0.9577 - loss: 0.1403 - val_accuracy: 0.9607 - val_loss: 0.1286\n",
      "Epoch 3/100\n",
      "\u001b[1m798/798\u001b[0m \u001b[32m━━━━━━━━━━━━━━━━━━━━\u001b[0m\u001b[37m\u001b[0m \u001b[1m3s\u001b[0m 4ms/step - accuracy: 0.9595 - loss: 0.1344 - val_accuracy: 0.9610 - val_loss: 0.1274\n",
      "Epoch 4/100\n",
      "\u001b[1m798/798\u001b[0m \u001b[32m━━━━━━━━━━━━━━━━━━━━\u001b[0m\u001b[37m\u001b[0m \u001b[1m4s\u001b[0m 5ms/step - accuracy: 0.9604 - loss: 0.1318 - val_accuracy: 0.9621 - val_loss: 0.1273\n",
      "Epoch 5/100\n",
      "\u001b[1m798/798\u001b[0m \u001b[32m━━━━━━━━━━━━━━━━━━━━\u001b[0m\u001b[37m\u001b[0m \u001b[1m4s\u001b[0m 4ms/step - accuracy: 0.9608 - loss: 0.1310 - val_accuracy: 0.9616 - val_loss: 0.1273\n",
      "Epoch 6/100\n",
      "\u001b[1m798/798\u001b[0m \u001b[32m━━━━━━━━━━━━━━━━━━━━\u001b[0m\u001b[37m\u001b[0m \u001b[1m4s\u001b[0m 4ms/step - accuracy: 0.9604 - loss: 0.1309 - val_accuracy: 0.9620 - val_loss: 0.1272\n",
      "Epoch 7/100\n",
      "\u001b[1m798/798\u001b[0m \u001b[32m━━━━━━━━━━━━━━━━━━━━\u001b[0m\u001b[37m\u001b[0m \u001b[1m4s\u001b[0m 4ms/step - accuracy: 0.9605 - loss: 0.1301 - val_accuracy: 0.9622 - val_loss: 0.1264\n",
      "Epoch 8/100\n",
      "\u001b[1m798/798\u001b[0m \u001b[32m━━━━━━━━━━━━━━━━━━━━\u001b[0m\u001b[37m\u001b[0m \u001b[1m4s\u001b[0m 4ms/step - accuracy: 0.9606 - loss: 0.1294 - val_accuracy: 0.9622 - val_loss: 0.1269\n",
      "Epoch 9/100\n",
      "\u001b[1m798/798\u001b[0m \u001b[32m━━━━━━━━━━━━━━━━━━━━\u001b[0m\u001b[37m\u001b[0m \u001b[1m4s\u001b[0m 4ms/step - accuracy: 0.9608 - loss: 0.1296 - val_accuracy: 0.9625 - val_loss: 0.1262\n",
      "Epoch 10/100\n",
      "\u001b[1m798/798\u001b[0m \u001b[32m━━━━━━━━━━━━━━━━━━━━\u001b[0m\u001b[37m\u001b[0m \u001b[1m4s\u001b[0m 4ms/step - accuracy: 0.9613 - loss: 0.1283 - val_accuracy: 0.9626 - val_loss: 0.1262\n",
      "Epoch 11/100\n",
      "\u001b[1m798/798\u001b[0m \u001b[32m━━━━━━━━━━━━━━━━━━━━\u001b[0m\u001b[37m\u001b[0m \u001b[1m7s\u001b[0m 6ms/step - accuracy: 0.9608 - loss: 0.1290 - val_accuracy: 0.9623 - val_loss: 0.1266\n",
      "Epoch 12/100\n",
      "\u001b[1m798/798\u001b[0m \u001b[32m━━━━━━━━━━━━━━━━━━━━\u001b[0m\u001b[37m\u001b[0m \u001b[1m3s\u001b[0m 4ms/step - accuracy: 0.9608 - loss: 0.1283 - val_accuracy: 0.9623 - val_loss: 0.1264\n",
      "Epoch 13/100\n",
      "\u001b[1m798/798\u001b[0m \u001b[32m━━━━━━━━━━━━━━━━━━━━\u001b[0m\u001b[37m\u001b[0m \u001b[1m7s\u001b[0m 8ms/step - accuracy: 0.9612 - loss: 0.1281 - val_accuracy: 0.9625 - val_loss: 0.1263\n",
      "Epoch 14/100\n",
      "\u001b[1m798/798\u001b[0m \u001b[32m━━━━━━━━━━━━━━━━━━━━\u001b[0m\u001b[37m\u001b[0m \u001b[1m3s\u001b[0m 4ms/step - accuracy: 0.9611 - loss: 0.1278 - val_accuracy: 0.9622 - val_loss: 0.1264\n",
      "Epoch 15/100\n",
      "\u001b[1m798/798\u001b[0m \u001b[32m━━━━━━━━━━━━━━━━━━━━\u001b[0m\u001b[37m\u001b[0m \u001b[1m3s\u001b[0m 4ms/step - accuracy: 0.9613 - loss: 0.1274 - val_accuracy: 0.9626 - val_loss: 0.1265\n",
      "Epoch 16/100\n",
      "\u001b[1m798/798\u001b[0m \u001b[32m━━━━━━━━━━━━━━━━━━━━\u001b[0m\u001b[37m\u001b[0m \u001b[1m3s\u001b[0m 4ms/step - accuracy: 0.9610 - loss: 0.1276 - val_accuracy: 0.9624 - val_loss: 0.1264\n",
      "Epoch 17/100\n",
      "\u001b[1m798/798\u001b[0m \u001b[32m━━━━━━━━━━━━━━━━━━━━\u001b[0m\u001b[37m\u001b[0m \u001b[1m4s\u001b[0m 4ms/step - accuracy: 0.9613 - loss: 0.1267 - val_accuracy: 0.9625 - val_loss: 0.1267\n",
      "Epoch 18/100\n",
      "\u001b[1m589/798\u001b[0m \u001b[32m━━━━━━━━━━━━━━\u001b[0m\u001b[37m━━━━━━\u001b[0m \u001b[1m0s\u001b[0m 3ms/step - accuracy: 0.9613 - loss: 0.1283"
     ]
    }
   ],
   "source": [
    "print(\"\\nLangkah 4: Pelatihan Model...\")\n",
    "\n",
    "early_stopping = tf.keras.callbacks.EarlyStopping(monitor='val_loss', patience=10, restore_best_weights=True)\n",
    "\n",
    "history = model.fit(\n",
    "    X_train_processed,\n",
    "    y_train,\n",
    "    epochs=100,\n",
    "    batch_size=64,\n",
    "    validation_split=0.2,\n",
    "    callbacks=[early_stopping],\n",
    "    verbose=1\n",
    ")"
   ]
  },
  {
   "cell_type": "code",
   "execution_count": null,
   "metadata": {
    "colab": {
     "base_uri": "https://localhost:8080/",
     "height": 407
    },
    "id": "91HHKkrtVFWN",
    "outputId": "60ccdb19-9367-47b3-f9f2-051be7c3ed33"
   },
   "outputs": [],
   "source": [
    "print(\"\\nLangkah 5: Evaluasi Model...\")\n",
    "def plot_history(history):\n",
    "    fig, (ax1, ax2) = plt.subplots(1, 2, figsize=(16, 6))\n",
    "\n",
    "    # Plot Grafik Loss\n",
    "    ax1.plot(history.history['loss'], label='Training Loss')\n",
    "    ax1.plot(history.history['val_loss'], label='Validation Loss')\n",
    "    ax1.set_title('Grafik Loss Model')\n",
    "    ax1.set_ylabel('Loss')\n",
    "    ax1.set_xlabel('Epoch')\n",
    "    ax1.legend(loc='upper right')\n",
    "\n",
    "    # Plot Grafik Akurasi\n",
    "    ax2.plot(history.history['accuracy'], label='Training Accuracy')\n",
    "    ax2.plot(history.history['val_accuracy'], label='Validation Accuracy')\n",
    "    ax2.set_title('Grafik Akurasi Model')\n",
    "    ax2.set_ylabel('Akurasi')\n",
    "    ax2.set_xlabel('Epoch')\n",
    "    ax2.legend(loc='lower right')\n",
    "\n",
    "    plt.show()\n",
    "\n",
    "plot_history(history)\n"
   ]
  },
  {
   "cell_type": "code",
   "execution_count": null,
   "metadata": {
    "colab": {
     "base_uri": "https://localhost:8080/"
    },
    "id": "dLvZEoOOlXTu",
    "outputId": "ac819433-ede2-48c2-9f9f-12ce56d38801"
   },
   "outputs": [],
   "source": [
    "loss, accuracy = model.evaluate(X_test_processed, y_test, verbose=0)\n",
    "print(f\"\\nAkurasi pada data test: {accuracy:.4f}\")\n",
    "print(f\"Loss pada data test: {loss:.4f}\")"
   ]
  },
  {
   "cell_type": "code",
   "execution_count": null,
   "metadata": {
    "colab": {
     "base_uri": "https://localhost:8080/"
    },
    "id": "ORr9Q8S9VJJZ",
    "outputId": "7b167cb2-e6d0-4158-942d-87e55f418e32"
   },
   "outputs": [],
   "source": [
    "y_pred_proba = model.predict(X_test_processed)\n",
    "y_pred = (y_pred_proba > 0.5).astype(\"int32\")\n",
    "\n",
    "print(\"\\nLaporan Klasifikasi:\")\n",
    "print(classification_report(y_test, y_pred, target_names=['Tidak Direkomendasikan', 'Direkomendasikan']))"
   ]
  },
  {
   "cell_type": "code",
   "execution_count": null,
   "metadata": {
    "colab": {
     "base_uri": "https://localhost:8080/",
     "height": 564
    },
    "id": "UQuLBeevVME_",
    "outputId": "c6621620-e857-4fb0-978e-8a10b7c8fd05"
   },
   "outputs": [],
   "source": [
    "cm = confusion_matrix(y_test, y_pred)\n",
    "plt.figure(figsize=(8, 6))\n",
    "sns.heatmap(cm, annot=True, fmt='d', cmap='Blues', xticklabels=['Tidak', 'Ya'], yticklabels=['Tidak', 'Ya'])\n",
    "plt.xlabel('Prediksi Rekomendasi')\n",
    "plt.ylabel('Rekomendasi Sebenarnya')\n",
    "plt.title('Confusion Matrix')\n",
    "plt.show()"
   ]
  },
  {
   "cell_type": "code",
   "execution_count": null,
   "metadata": {
    "colab": {
     "base_uri": "https://localhost:8080/"
    },
    "id": "nPJhLQvzVOq2",
    "outputId": "55eb5ad8-4628-4791-b101-6e8ddb6a4432"
   },
   "outputs": [],
   "source": [
    "print(\"\\nLangkah 6: Menyimpan Model dalam 3 Format...\")\n",
    "\n",
    "# Format 1: .keras (Modern & Direkomendasikan)\n",
    "model.save('investment_recommendation_model.keras')\n",
    "print(\"-> Model berhasil disimpan sebagai 'investment_recommendation_model.keras'\")\n",
    "\n",
    "# Format 2: .h5 (Legacy HDF5)\n",
    "model.save('investment_recommendation_model.h5')\n",
    "print(\"-> Model berhasil disimpan sebagai 'investment_recommendation_model.h5'\")\n",
    "\n",
    "# Format 3: SavedModel (Direktori untuk Deployment)\n",
    "# Gunakan model.export() untuk menyimpan dalam format SavedModel\n",
    "model.export('investment_recommendation_saved_model')\n",
    "print(\"-> Model berhasil disimpan sebagai direktori 'investment_recommendation_saved_model'\")"
   ]
  },
  {
   "cell_type": "code",
   "execution_count": null,
   "metadata": {
    "colab": {
     "base_uri": "https://localhost:8080/"
    },
    "id": "nq6YmGu7VZnb",
    "outputId": "371e044e-6b7d-4274-ec9a-905ed06d0c14"
   },
   "outputs": [],
   "source": [
    "print(\"\\nLangkah 7: Contoh Inferensi pada Data Baru...\")\n",
    "\n",
    "# Muat kembali preprocessor dan model (format .keras sebagai contoh)\n",
    "loaded_preprocessor = joblib.load('investment_preprocessor.joblib')\n",
    "loaded_model = tf.keras.models.load_model('investment_recommendation_model.keras')\n",
    "print(\"Preprocessor dan Model (.keras) berhasil dimuat untuk inferensi.\")\n",
    "\n",
    "# Buat contoh data baru\n",
    "new_data = pd.DataFrame({\n",
    "    'usia': [30],\n",
    "    'profil_risiko': ['Agresif'],\n",
    "    'pendapatan_bulanan_juta': [25],\n",
    "    'tingkat_pengetahuan': ['Menengah'],\n",
    "    'status_pernikahan': ['Menikah'],\n",
    "    'jumlah_tanggungan': [1],\n",
    "    'tujuan_keuangan': ['Dana Pensiun'],\n",
    "    'jangka_waktu_thn': [25.0],\n",
    "    'target_dana_juta': [1500],\n",
    "    'jenis_produk': ['Reksa Dana Indeks Saham'],\n",
    "    'tingkat_risiko_skor': [8],\n",
    "    'potensi_return_tahunan_persen': [18.0],\n",
    "    'likuiditas': ['Sedang'],\n",
    "    'minimum_investasi_rp': [100000],\n",
    "})\n",
    "\n",
    "# Preprocess data baru\n",
    "new_data_processed = loaded_preprocessor.transform(new_data)\n",
    "\n",
    "# Lakukan prediksi\n",
    "predictions_proba = loaded_model.predict(new_data_processed)\n",
    "predictions = (predictions_proba > 0.5).astype(\"int32\")\n",
    "\n",
    "# Tampilkan hasil\n",
    "print(\"\\n--- Hasil Rekomendasi ---\")\n",
    "for i in range(len(new_data)):\n",
    "    product_name = new_data['jenis_produk'].iloc[i]\n",
    "    probability = predictions_proba[i][0]\n",
    "    result = \"COCOK\" if predictions[i][0] == 1 else \"TIDAK COCOK\"\n",
    "\n",
    "    print(f\"Produk: {product_name}\")\n",
    "    print(f\"  -> Probabilitas Kecocokan: {probability:.2%}\")\n",
    "    print(f\"  -> Rekomendasi: **{result}**\\n\")"
   ]
  },
  {
   "cell_type": "code",
   "execution_count": null,
   "metadata": {
    "id": "-tKRjMJRWvjz"
   },
   "outputs": [],
   "source": [
    "!pip freeze > requirements.txt"
   ]
  }
 ],
 "metadata": {
  "colab": {
   "provenance": []
  },
  "kernelspec": {
   "display_name": "Python 3 (ipykernel)",
   "language": "python",
   "name": "python3"
  },
  "language_info": {
   "codemirror_mode": {
    "name": "ipython",
    "version": 3
   },
   "file_extension": ".py",
   "mimetype": "text/x-python",
   "name": "python",
   "nbconvert_exporter": "python",
   "pygments_lexer": "ipython3",
   "version": "3.11.1"
  }
 },
 "nbformat": 4,
 "nbformat_minor": 4
}
